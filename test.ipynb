{
 "cells": [
  {
   "cell_type": "code",
   "execution_count": 6,
   "id": "f1862383",
   "metadata": {},
   "outputs": [
    {
     "name": "stdout",
     "output_type": "stream",
     "text": [
      "Requirement already satisfied: torch in /Users/asim/miniforge3/envs/scrapper/lib/python3.9/site-packages (2.3.1)\n",
      "Collecting torch\n",
      "  Downloading torch-2.7.1-cp39-none-macosx_11_0_arm64.whl.metadata (29 kB)\n",
      "Requirement already satisfied: filelock in /Users/asim/miniforge3/envs/scrapper/lib/python3.9/site-packages (from torch) (3.16.1)\n",
      "Requirement already satisfied: typing-extensions>=4.10.0 in /Users/asim/miniforge3/envs/scrapper/lib/python3.9/site-packages (from torch) (4.12.2)\n",
      "Requirement already satisfied: sympy>=1.13.3 in /Users/asim/miniforge3/envs/scrapper/lib/python3.9/site-packages (from torch) (1.13.3)\n",
      "Requirement already satisfied: networkx in /Users/asim/miniforge3/envs/scrapper/lib/python3.9/site-packages (from torch) (3.2.1)\n",
      "Requirement already satisfied: jinja2 in /Users/asim/miniforge3/envs/scrapper/lib/python3.9/site-packages (from torch) (3.1.4)\n",
      "Requirement already satisfied: fsspec in /Users/asim/miniforge3/envs/scrapper/lib/python3.9/site-packages (from torch) (2024.10.0)\n",
      "Requirement already satisfied: mpmath<1.4,>=1.1.0 in /Users/asim/miniforge3/envs/scrapper/lib/python3.9/site-packages (from sympy>=1.13.3->torch) (1.3.0)\n",
      "Requirement already satisfied: MarkupSafe>=2.0 in /Users/asim/miniforge3/envs/scrapper/lib/python3.9/site-packages (from jinja2->torch) (3.0.2)\n",
      "Downloading torch-2.7.1-cp39-none-macosx_11_0_arm64.whl (68.6 MB)\n",
      "\u001b[2K   \u001b[90m━━━━━━━━━━━━━━━━━━━━━━━━━━━━━━━━━━━━━━━━\u001b[0m \u001b[32m68.6/68.6 MB\u001b[0m \u001b[31m12.8 MB/s\u001b[0m eta \u001b[36m0:00:00\u001b[0m00:01\u001b[0m00:01\u001b[0m\n",
      "\u001b[?25hInstalling collected packages: torch\n",
      "  Attempting uninstall: torch\n",
      "    Found existing installation: torch 2.3.1\n",
      "    Uninstalling torch-2.3.1:\n",
      "      Successfully uninstalled torch-2.3.1\n",
      "\u001b[31mERROR: pip's dependency resolver does not currently take into account all the packages that are installed. This behaviour is the source of the following dependency conflicts.\n",
      "realtimestt 0.3.0 requires scipy==1.12.0, but you have scipy 1.13.1 which is incompatible.\n",
      "realtimestt 0.3.0 requires torch==2.3.1, but you have torch 2.7.1 which is incompatible.\n",
      "torchaudio 2.3.1 requires torch==2.3.1, but you have torch 2.7.1 which is incompatible.\u001b[0m\u001b[31m\n",
      "\u001b[0mSuccessfully installed torch-2.7.1\n"
     ]
    }
   ],
   "source": [
    "!pip install --upgrade torch\n"
   ]
  },
  {
   "cell_type": "code",
   "execution_count": 1,
   "id": "1caa099a",
   "metadata": {},
   "outputs": [],
   "source": [
    "from sentence_transformers import SentenceTransformer\n",
    "model = SentenceTransformer('all-MiniLM-L6-v2')\n",
    "model.save('./all-MiniLM-L6-v2', safe_serialization=False)\n"
   ]
  }
 ],
 "metadata": {
  "kernelspec": {
   "display_name": "scrapper",
   "language": "python",
   "name": "python3"
  },
  "language_info": {
   "codemirror_mode": {
    "name": "ipython",
    "version": 3
   },
   "file_extension": ".py",
   "mimetype": "text/x-python",
   "name": "python",
   "nbconvert_exporter": "python",
   "pygments_lexer": "ipython3",
   "version": "3.9.20"
  }
 },
 "nbformat": 4,
 "nbformat_minor": 5
}
